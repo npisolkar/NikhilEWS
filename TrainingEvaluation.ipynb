{
 "cells": [
  {
   "cell_type": "markdown",
   "id": "8ab16370",
   "metadata": {},
   "source": [
    "# Training and Evaluation of NikhilEWS"
   ]
  },
  {
   "cell_type": "code",
   "execution_count": null,
   "id": "f7283ffd",
   "metadata": {},
   "outputs": [],
   "source": [
    "from pathlib import Path"
   ]
  },
  {
   "cell_type": "code",
   "execution_count": null,
   "id": "7737e56e",
   "metadata": {},
   "outputs": [],
   "source": [
    "import sys\n",
    "path = \"\"\n",
    "\n",
    "account_file = \"newsdata/accounts.csv\"\n",
    "comfort_file = \"newsdata/comfort_care.csv\"\n",
    "wide_vital_file = \"newsdata/vitals_wide.xlsx\"\n"
   ]
  },
  {
   "cell_type": "code",
   "execution_count": null,
   "id": "955847b5",
   "metadata": {},
   "outputs": [],
   "source": [
    "from pyspark.sql import SparkSession\n",
    "spark = SparkSession.builder.appName(\"Taxi task 4\").getOrCreate()\n",
    "spark.setLogLevel(\"DEBUG\")"
   ]
  },
  {
   "cell_type": "code",
   "execution_count": null,
   "id": "84c214b9",
   "metadata": {},
   "outputs": [],
   "source": [
    "# Accounts table: \n",
    "\n",
    "accounts = spark.read.csv(account_file, header=True, inferSchema=True)\n",
    "# accounts.printSchema()\n",
    "# accounts.show()\n",
    "\n"
   ]
  },
  {
   "cell_type": "code",
   "execution_count": null,
   "id": "63d036c1",
   "metadata": {},
   "outputs": [],
   "source": [
    "wide_vitals = spark.read.excel(wide_vital_file, header=True, inferSchema=True)\n",
    "# wide_vitals.printSchema()\n",
    "# # wide_vitals.show()"
   ]
  },
  {
   "cell_type": "code",
   "execution_count": null,
   "id": "88e2fd64",
   "metadata": {},
   "outputs": [],
   "source": []
  },
  {
   "cell_type": "code",
   "execution_count": null,
   "id": "be8718c0",
   "metadata": {},
   "outputs": [],
   "source": []
  },
  {
   "cell_type": "code",
   "execution_count": null,
   "id": "22cd084f",
   "metadata": {},
   "outputs": [],
   "source": []
  },
  {
   "cell_type": "code",
   "execution_count": null,
   "id": "e0ff655a",
   "metadata": {},
   "outputs": [],
   "source": []
  }
 ],
 "metadata": {
  "kernelspec": {
   "display_name": "Python 3 (ipykernel)",
   "language": "python",
   "name": "python3"
  },
  "language_info": {
   "codemirror_mode": {
    "name": "ipython",
    "version": 3
   },
   "file_extension": ".py",
   "mimetype": "text/x-python",
   "name": "python",
   "nbconvert_exporter": "python",
   "pygments_lexer": "ipython3",
   "version": "3.10.9"
  }
 },
 "nbformat": 4,
 "nbformat_minor": 5
}
